{
  "nbformat": 4,
  "nbformat_minor": 0,
  "metadata": {
    "colab": {
      "provenance": [],
      "collapsed_sections": [],
      "mount_file_id": "1nLnDlKvGpO8QPRiMS9YyMa3H7S4oPXXY",
      "authorship_tag": "ABX9TyPn2wiSfXrD5MfQh+7c6ZN+",
      "include_colab_link": true
    },
    "kernelspec": {
      "name": "python3",
      "display_name": "Python 3"
    },
    "language_info": {
      "name": "python"
    }
  },
  "cells": [
    {
      "cell_type": "markdown",
      "metadata": {
        "id": "view-in-github",
        "colab_type": "text"
      },
      "source": [
        "<a href=\"https://colab.research.google.com/github/Titophilip/DataCamp/blob/main/boat_data_analysis.ipynb\" target=\"_parent\"><img src=\"https://colab.research.google.com/assets/colab-badge.svg\" alt=\"Open In Colab\"/></a>"
      ]
    },
    {
      "cell_type": "code",
      "execution_count": 1,
      "metadata": {
        "id": "CDvPA9bpAkpf"
      },
      "outputs": [],
      "source": [
        "import numpy as np\n",
        "import pandas as pd\n",
        "import seaborn as sns\n",
        "\n",
        "import matplotlib.pyplot as plt"
      ]
    },
    {
      "cell_type": "code",
      "source": [
        "boat_data = pd.read_csv('/content/drive/MyDrive/Colab Notebooks/boat_data.csv')\n",
        "boat_data.head()"
      ],
      "metadata": {
        "colab": {
          "base_uri": "https://localhost:8080/",
          "height": 424
        },
        "id": "h6aYgxOGB5sc",
        "outputId": "40dbe37c-9917-4674-e79d-d25a32fbe6cc"
      },
      "execution_count": 2,
      "outputs": [
        {
          "output_type": "execute_result",
          "data": {
            "text/plain": [
              "  Currency  Amount  Euro Equivalent                        Boat Type  \\\n",
              "0      CHF   14900          14900.0                      Motor Yacht   \n",
              "1      CHF   35000          35000.0                          Hardtop   \n",
              "2      CHF  125900         125900.0  Bowrider,Motor Yacht,Sport Boat   \n",
              "3      EUR  949000        1100840.0                          Hardtop   \n",
              "4      CHF   19900          19900.0                       Sport Boat   \n",
              "\n",
              "           Manufacturer                Type   Conditon Fuel Type  Year Built  \\\n",
              "0  Bayliner power boats  Used boat,Unleaded  Used boat  Unleaded        1992   \n",
              "1  Princess power boats    Used boat,Diesel  Used boat    Diesel        1979   \n",
              "2     Windy power boats    Used boat,Diesel  Used boat    Diesel        2002   \n",
              "3  Pershing power boats    Used boat,Diesel  Used boat    Diesel        2009   \n",
              "4   Sea Ray power boats  Used boat,Unleaded  Used boat  Unleaded        1993   \n",
              "\n",
              "   Length  Width Material     Location  Number of views last 7 days  \n",
              "0    7.70   2.46  Plastic  Switzerland                         3263  \n",
              "1   11.12   3.88      GRP  Switzerland                         2432  \n",
              "2   12.35   3.48      GRP  Switzerland                         2261  \n",
              "3   20.30   5.20      GRP     Neustadt                         2154  \n",
              "4    6.14   2.34  Plastic  Switzerland                         2026  "
            ],
            "text/html": [
              "\n",
              "  <div id=\"df-0e87a5df-8302-45a9-98a8-f80e016d3e1e\">\n",
              "    <div class=\"colab-df-container\">\n",
              "      <div>\n",
              "<style scoped>\n",
              "    .dataframe tbody tr th:only-of-type {\n",
              "        vertical-align: middle;\n",
              "    }\n",
              "\n",
              "    .dataframe tbody tr th {\n",
              "        vertical-align: top;\n",
              "    }\n",
              "\n",
              "    .dataframe thead th {\n",
              "        text-align: right;\n",
              "    }\n",
              "</style>\n",
              "<table border=\"1\" class=\"dataframe\">\n",
              "  <thead>\n",
              "    <tr style=\"text-align: right;\">\n",
              "      <th></th>\n",
              "      <th>Currency</th>\n",
              "      <th>Amount</th>\n",
              "      <th>Euro Equivalent</th>\n",
              "      <th>Boat Type</th>\n",
              "      <th>Manufacturer</th>\n",
              "      <th>Type</th>\n",
              "      <th>Conditon</th>\n",
              "      <th>Fuel Type</th>\n",
              "      <th>Year Built</th>\n",
              "      <th>Length</th>\n",
              "      <th>Width</th>\n",
              "      <th>Material</th>\n",
              "      <th>Location</th>\n",
              "      <th>Number of views last 7 days</th>\n",
              "    </tr>\n",
              "  </thead>\n",
              "  <tbody>\n",
              "    <tr>\n",
              "      <th>0</th>\n",
              "      <td>CHF</td>\n",
              "      <td>14900</td>\n",
              "      <td>14900.0</td>\n",
              "      <td>Motor Yacht</td>\n",
              "      <td>Bayliner power boats</td>\n",
              "      <td>Used boat,Unleaded</td>\n",
              "      <td>Used boat</td>\n",
              "      <td>Unleaded</td>\n",
              "      <td>1992</td>\n",
              "      <td>7.70</td>\n",
              "      <td>2.46</td>\n",
              "      <td>Plastic</td>\n",
              "      <td>Switzerland</td>\n",
              "      <td>3263</td>\n",
              "    </tr>\n",
              "    <tr>\n",
              "      <th>1</th>\n",
              "      <td>CHF</td>\n",
              "      <td>35000</td>\n",
              "      <td>35000.0</td>\n",
              "      <td>Hardtop</td>\n",
              "      <td>Princess power boats</td>\n",
              "      <td>Used boat,Diesel</td>\n",
              "      <td>Used boat</td>\n",
              "      <td>Diesel</td>\n",
              "      <td>1979</td>\n",
              "      <td>11.12</td>\n",
              "      <td>3.88</td>\n",
              "      <td>GRP</td>\n",
              "      <td>Switzerland</td>\n",
              "      <td>2432</td>\n",
              "    </tr>\n",
              "    <tr>\n",
              "      <th>2</th>\n",
              "      <td>CHF</td>\n",
              "      <td>125900</td>\n",
              "      <td>125900.0</td>\n",
              "      <td>Bowrider,Motor Yacht,Sport Boat</td>\n",
              "      <td>Windy power boats</td>\n",
              "      <td>Used boat,Diesel</td>\n",
              "      <td>Used boat</td>\n",
              "      <td>Diesel</td>\n",
              "      <td>2002</td>\n",
              "      <td>12.35</td>\n",
              "      <td>3.48</td>\n",
              "      <td>GRP</td>\n",
              "      <td>Switzerland</td>\n",
              "      <td>2261</td>\n",
              "    </tr>\n",
              "    <tr>\n",
              "      <th>3</th>\n",
              "      <td>EUR</td>\n",
              "      <td>949000</td>\n",
              "      <td>1100840.0</td>\n",
              "      <td>Hardtop</td>\n",
              "      <td>Pershing power boats</td>\n",
              "      <td>Used boat,Diesel</td>\n",
              "      <td>Used boat</td>\n",
              "      <td>Diesel</td>\n",
              "      <td>2009</td>\n",
              "      <td>20.30</td>\n",
              "      <td>5.20</td>\n",
              "      <td>GRP</td>\n",
              "      <td>Neustadt</td>\n",
              "      <td>2154</td>\n",
              "    </tr>\n",
              "    <tr>\n",
              "      <th>4</th>\n",
              "      <td>CHF</td>\n",
              "      <td>19900</td>\n",
              "      <td>19900.0</td>\n",
              "      <td>Sport Boat</td>\n",
              "      <td>Sea Ray power boats</td>\n",
              "      <td>Used boat,Unleaded</td>\n",
              "      <td>Used boat</td>\n",
              "      <td>Unleaded</td>\n",
              "      <td>1993</td>\n",
              "      <td>6.14</td>\n",
              "      <td>2.34</td>\n",
              "      <td>Plastic</td>\n",
              "      <td>Switzerland</td>\n",
              "      <td>2026</td>\n",
              "    </tr>\n",
              "  </tbody>\n",
              "</table>\n",
              "</div>\n",
              "      <button class=\"colab-df-convert\" onclick=\"convertToInteractive('df-0e87a5df-8302-45a9-98a8-f80e016d3e1e')\"\n",
              "              title=\"Convert this dataframe to an interactive table.\"\n",
              "              style=\"display:none;\">\n",
              "        \n",
              "  <svg xmlns=\"http://www.w3.org/2000/svg\" height=\"24px\"viewBox=\"0 0 24 24\"\n",
              "       width=\"24px\">\n",
              "    <path d=\"M0 0h24v24H0V0z\" fill=\"none\"/>\n",
              "    <path d=\"M18.56 5.44l.94 2.06.94-2.06 2.06-.94-2.06-.94-.94-2.06-.94 2.06-2.06.94zm-11 1L8.5 8.5l.94-2.06 2.06-.94-2.06-.94L8.5 2.5l-.94 2.06-2.06.94zm10 10l.94 2.06.94-2.06 2.06-.94-2.06-.94-.94-2.06-.94 2.06-2.06.94z\"/><path d=\"M17.41 7.96l-1.37-1.37c-.4-.4-.92-.59-1.43-.59-.52 0-1.04.2-1.43.59L10.3 9.45l-7.72 7.72c-.78.78-.78 2.05 0 2.83L4 21.41c.39.39.9.59 1.41.59.51 0 1.02-.2 1.41-.59l7.78-7.78 2.81-2.81c.8-.78.8-2.07 0-2.86zM5.41 20L4 18.59l7.72-7.72 1.47 1.35L5.41 20z\"/>\n",
              "  </svg>\n",
              "      </button>\n",
              "      \n",
              "  <style>\n",
              "    .colab-df-container {\n",
              "      display:flex;\n",
              "      flex-wrap:wrap;\n",
              "      gap: 12px;\n",
              "    }\n",
              "\n",
              "    .colab-df-convert {\n",
              "      background-color: #E8F0FE;\n",
              "      border: none;\n",
              "      border-radius: 50%;\n",
              "      cursor: pointer;\n",
              "      display: none;\n",
              "      fill: #1967D2;\n",
              "      height: 32px;\n",
              "      padding: 0 0 0 0;\n",
              "      width: 32px;\n",
              "    }\n",
              "\n",
              "    .colab-df-convert:hover {\n",
              "      background-color: #E2EBFA;\n",
              "      box-shadow: 0px 1px 2px rgba(60, 64, 67, 0.3), 0px 1px 3px 1px rgba(60, 64, 67, 0.15);\n",
              "      fill: #174EA6;\n",
              "    }\n",
              "\n",
              "    [theme=dark] .colab-df-convert {\n",
              "      background-color: #3B4455;\n",
              "      fill: #D2E3FC;\n",
              "    }\n",
              "\n",
              "    [theme=dark] .colab-df-convert:hover {\n",
              "      background-color: #434B5C;\n",
              "      box-shadow: 0px 1px 3px 1px rgba(0, 0, 0, 0.15);\n",
              "      filter: drop-shadow(0px 1px 2px rgba(0, 0, 0, 0.3));\n",
              "      fill: #FFFFFF;\n",
              "    }\n",
              "  </style>\n",
              "\n",
              "      <script>\n",
              "        const buttonEl =\n",
              "          document.querySelector('#df-0e87a5df-8302-45a9-98a8-f80e016d3e1e button.colab-df-convert');\n",
              "        buttonEl.style.display =\n",
              "          google.colab.kernel.accessAllowed ? 'block' : 'none';\n",
              "\n",
              "        async function convertToInteractive(key) {\n",
              "          const element = document.querySelector('#df-0e87a5df-8302-45a9-98a8-f80e016d3e1e');\n",
              "          const dataTable =\n",
              "            await google.colab.kernel.invokeFunction('convertToInteractive',\n",
              "                                                     [key], {});\n",
              "          if (!dataTable) return;\n",
              "\n",
              "          const docLinkHtml = 'Like what you see? Visit the ' +\n",
              "            '<a target=\"_blank\" href=https://colab.research.google.com/notebooks/data_table.ipynb>data table notebook</a>'\n",
              "            + ' to learn more about interactive tables.';\n",
              "          element.innerHTML = '';\n",
              "          dataTable['output_type'] = 'display_data';\n",
              "          await google.colab.output.renderOutput(dataTable, element);\n",
              "          const docLink = document.createElement('div');\n",
              "          docLink.innerHTML = docLinkHtml;\n",
              "          element.appendChild(docLink);\n",
              "        }\n",
              "      </script>\n",
              "    </div>\n",
              "  </div>\n",
              "  "
            ]
          },
          "metadata": {},
          "execution_count": 2
        }
      ]
    },
    {
      "cell_type": "markdown",
      "source": [
        "First, we quickly explore the data."
      ],
      "metadata": {
        "id": "auBDJgebCR_p"
      }
    },
    {
      "cell_type": "code",
      "source": [
        "boat_data.info()"
      ],
      "metadata": {
        "colab": {
          "base_uri": "https://localhost:8080/"
        },
        "id": "w9vp-Hv_CdX2",
        "outputId": "0ce57a1c-1a77-4788-bb24-c20af8e1fe1e"
      },
      "execution_count": 3,
      "outputs": [
        {
          "output_type": "stream",
          "name": "stdout",
          "text": [
            "<class 'pandas.core.frame.DataFrame'>\n",
            "RangeIndex: 9888 entries, 0 to 9887\n",
            "Data columns (total 14 columns):\n",
            " #   Column                       Non-Null Count  Dtype  \n",
            "---  ------                       --------------  -----  \n",
            " 0   Currency                     9888 non-null   object \n",
            " 1   Amount                       9888 non-null   int64  \n",
            " 2   Euro Equivalent              9888 non-null   float64\n",
            " 3   Boat Type                    9888 non-null   object \n",
            " 4   Manufacturer                 8550 non-null   object \n",
            " 5   Type                         9882 non-null   object \n",
            " 6   Conditon                     9802 non-null   object \n",
            " 7   Fuel Type                    7676 non-null   object \n",
            " 8   Year Built                   9888 non-null   int64  \n",
            " 9   Length                       9879 non-null   float64\n",
            " 10  Width                        9832 non-null   float64\n",
            " 11  Material                     8139 non-null   object \n",
            " 12  Location                     9851 non-null   object \n",
            " 13  Number of views last 7 days  9888 non-null   int64  \n",
            "dtypes: float64(3), int64(3), object(8)\n",
            "memory usage: 1.1+ MB\n"
          ]
        }
      ]
    },
    {
      "cell_type": "code",
      "source": [
        "boat_data.describe()"
      ],
      "metadata": {
        "colab": {
          "base_uri": "https://localhost:8080/",
          "height": 300
        },
        "id": "nfTFAnCkC29F",
        "outputId": "d4b59772-7b4e-446b-edb1-a8b074b035a5"
      },
      "execution_count": 4,
      "outputs": [
        {
          "output_type": "execute_result",
          "data": {
            "text/plain": [
              "             Amount  Euro Equivalent   Year Built       Length        Width  \\\n",
              "count  9.888000e+03     9.888000e+03  9888.000000  9879.000000  9832.000000   \n",
              "mean   3.201373e+05     3.422782e+05  1893.192860    11.570017     3.520124   \n",
              "std    1.007482e+06     1.103839e+06   460.201582     6.002820     1.220534   \n",
              "min    3.300000e+03     3.224000e+03     0.000000     1.040000     0.010000   \n",
              "25%    4.400000e+04     4.860400e+04  1996.000000     7.470000     2.540000   \n",
              "50%    9.500000e+04     1.044000e+05  2007.000000    10.280000     3.330000   \n",
              "75%    2.550000e+05     2.791068e+05  2017.000000    13.930000     4.250000   \n",
              "max    3.100000e+07     3.596000e+07  2021.000000   100.000000    25.160000   \n",
              "\n",
              "       Number of views last 7 days  \n",
              "count                  9888.000000  \n",
              "mean                    149.160801  \n",
              "std                     151.819752  \n",
              "min                      13.000000  \n",
              "25%                      70.000000  \n",
              "50%                     108.000000  \n",
              "75%                     172.000000  \n",
              "max                    3263.000000  "
            ],
            "text/html": [
              "\n",
              "  <div id=\"df-e285b460-29aa-458d-b208-693700c7d2bc\">\n",
              "    <div class=\"colab-df-container\">\n",
              "      <div>\n",
              "<style scoped>\n",
              "    .dataframe tbody tr th:only-of-type {\n",
              "        vertical-align: middle;\n",
              "    }\n",
              "\n",
              "    .dataframe tbody tr th {\n",
              "        vertical-align: top;\n",
              "    }\n",
              "\n",
              "    .dataframe thead th {\n",
              "        text-align: right;\n",
              "    }\n",
              "</style>\n",
              "<table border=\"1\" class=\"dataframe\">\n",
              "  <thead>\n",
              "    <tr style=\"text-align: right;\">\n",
              "      <th></th>\n",
              "      <th>Amount</th>\n",
              "      <th>Euro Equivalent</th>\n",
              "      <th>Year Built</th>\n",
              "      <th>Length</th>\n",
              "      <th>Width</th>\n",
              "      <th>Number of views last 7 days</th>\n",
              "    </tr>\n",
              "  </thead>\n",
              "  <tbody>\n",
              "    <tr>\n",
              "      <th>count</th>\n",
              "      <td>9.888000e+03</td>\n",
              "      <td>9.888000e+03</td>\n",
              "      <td>9888.000000</td>\n",
              "      <td>9879.000000</td>\n",
              "      <td>9832.000000</td>\n",
              "      <td>9888.000000</td>\n",
              "    </tr>\n",
              "    <tr>\n",
              "      <th>mean</th>\n",
              "      <td>3.201373e+05</td>\n",
              "      <td>3.422782e+05</td>\n",
              "      <td>1893.192860</td>\n",
              "      <td>11.570017</td>\n",
              "      <td>3.520124</td>\n",
              "      <td>149.160801</td>\n",
              "    </tr>\n",
              "    <tr>\n",
              "      <th>std</th>\n",
              "      <td>1.007482e+06</td>\n",
              "      <td>1.103839e+06</td>\n",
              "      <td>460.201582</td>\n",
              "      <td>6.002820</td>\n",
              "      <td>1.220534</td>\n",
              "      <td>151.819752</td>\n",
              "    </tr>\n",
              "    <tr>\n",
              "      <th>min</th>\n",
              "      <td>3.300000e+03</td>\n",
              "      <td>3.224000e+03</td>\n",
              "      <td>0.000000</td>\n",
              "      <td>1.040000</td>\n",
              "      <td>0.010000</td>\n",
              "      <td>13.000000</td>\n",
              "    </tr>\n",
              "    <tr>\n",
              "      <th>25%</th>\n",
              "      <td>4.400000e+04</td>\n",
              "      <td>4.860400e+04</td>\n",
              "      <td>1996.000000</td>\n",
              "      <td>7.470000</td>\n",
              "      <td>2.540000</td>\n",
              "      <td>70.000000</td>\n",
              "    </tr>\n",
              "    <tr>\n",
              "      <th>50%</th>\n",
              "      <td>9.500000e+04</td>\n",
              "      <td>1.044000e+05</td>\n",
              "      <td>2007.000000</td>\n",
              "      <td>10.280000</td>\n",
              "      <td>3.330000</td>\n",
              "      <td>108.000000</td>\n",
              "    </tr>\n",
              "    <tr>\n",
              "      <th>75%</th>\n",
              "      <td>2.550000e+05</td>\n",
              "      <td>2.791068e+05</td>\n",
              "      <td>2017.000000</td>\n",
              "      <td>13.930000</td>\n",
              "      <td>4.250000</td>\n",
              "      <td>172.000000</td>\n",
              "    </tr>\n",
              "    <tr>\n",
              "      <th>max</th>\n",
              "      <td>3.100000e+07</td>\n",
              "      <td>3.596000e+07</td>\n",
              "      <td>2021.000000</td>\n",
              "      <td>100.000000</td>\n",
              "      <td>25.160000</td>\n",
              "      <td>3263.000000</td>\n",
              "    </tr>\n",
              "  </tbody>\n",
              "</table>\n",
              "</div>\n",
              "      <button class=\"colab-df-convert\" onclick=\"convertToInteractive('df-e285b460-29aa-458d-b208-693700c7d2bc')\"\n",
              "              title=\"Convert this dataframe to an interactive table.\"\n",
              "              style=\"display:none;\">\n",
              "        \n",
              "  <svg xmlns=\"http://www.w3.org/2000/svg\" height=\"24px\"viewBox=\"0 0 24 24\"\n",
              "       width=\"24px\">\n",
              "    <path d=\"M0 0h24v24H0V0z\" fill=\"none\"/>\n",
              "    <path d=\"M18.56 5.44l.94 2.06.94-2.06 2.06-.94-2.06-.94-.94-2.06-.94 2.06-2.06.94zm-11 1L8.5 8.5l.94-2.06 2.06-.94-2.06-.94L8.5 2.5l-.94 2.06-2.06.94zm10 10l.94 2.06.94-2.06 2.06-.94-2.06-.94-.94-2.06-.94 2.06-2.06.94z\"/><path d=\"M17.41 7.96l-1.37-1.37c-.4-.4-.92-.59-1.43-.59-.52 0-1.04.2-1.43.59L10.3 9.45l-7.72 7.72c-.78.78-.78 2.05 0 2.83L4 21.41c.39.39.9.59 1.41.59.51 0 1.02-.2 1.41-.59l7.78-7.78 2.81-2.81c.8-.78.8-2.07 0-2.86zM5.41 20L4 18.59l7.72-7.72 1.47 1.35L5.41 20z\"/>\n",
              "  </svg>\n",
              "      </button>\n",
              "      \n",
              "  <style>\n",
              "    .colab-df-container {\n",
              "      display:flex;\n",
              "      flex-wrap:wrap;\n",
              "      gap: 12px;\n",
              "    }\n",
              "\n",
              "    .colab-df-convert {\n",
              "      background-color: #E8F0FE;\n",
              "      border: none;\n",
              "      border-radius: 50%;\n",
              "      cursor: pointer;\n",
              "      display: none;\n",
              "      fill: #1967D2;\n",
              "      height: 32px;\n",
              "      padding: 0 0 0 0;\n",
              "      width: 32px;\n",
              "    }\n",
              "\n",
              "    .colab-df-convert:hover {\n",
              "      background-color: #E2EBFA;\n",
              "      box-shadow: 0px 1px 2px rgba(60, 64, 67, 0.3), 0px 1px 3px 1px rgba(60, 64, 67, 0.15);\n",
              "      fill: #174EA6;\n",
              "    }\n",
              "\n",
              "    [theme=dark] .colab-df-convert {\n",
              "      background-color: #3B4455;\n",
              "      fill: #D2E3FC;\n",
              "    }\n",
              "\n",
              "    [theme=dark] .colab-df-convert:hover {\n",
              "      background-color: #434B5C;\n",
              "      box-shadow: 0px 1px 3px 1px rgba(0, 0, 0, 0.15);\n",
              "      filter: drop-shadow(0px 1px 2px rgba(0, 0, 0, 0.3));\n",
              "      fill: #FFFFFF;\n",
              "    }\n",
              "  </style>\n",
              "\n",
              "      <script>\n",
              "        const buttonEl =\n",
              "          document.querySelector('#df-e285b460-29aa-458d-b208-693700c7d2bc button.colab-df-convert');\n",
              "        buttonEl.style.display =\n",
              "          google.colab.kernel.accessAllowed ? 'block' : 'none';\n",
              "\n",
              "        async function convertToInteractive(key) {\n",
              "          const element = document.querySelector('#df-e285b460-29aa-458d-b208-693700c7d2bc');\n",
              "          const dataTable =\n",
              "            await google.colab.kernel.invokeFunction('convertToInteractive',\n",
              "                                                     [key], {});\n",
              "          if (!dataTable) return;\n",
              "\n",
              "          const docLinkHtml = 'Like what you see? Visit the ' +\n",
              "            '<a target=\"_blank\" href=https://colab.research.google.com/notebooks/data_table.ipynb>data table notebook</a>'\n",
              "            + ' to learn more about interactive tables.';\n",
              "          element.innerHTML = '';\n",
              "          dataTable['output_type'] = 'display_data';\n",
              "          await google.colab.output.renderOutput(dataTable, element);\n",
              "          const docLink = document.createElement('div');\n",
              "          docLink.innerHTML = docLinkHtml;\n",
              "          element.appendChild(docLink);\n",
              "        }\n",
              "      </script>\n",
              "    </div>\n",
              "  </div>\n",
              "  "
            ]
          },
          "metadata": {},
          "execution_count": 4
        }
      ]
    },
    {
      "cell_type": "code",
      "source": [
        "sns.set_theme()"
      ],
      "metadata": {
        "id": "zlbkF-Ws46_t"
      },
      "execution_count": 21,
      "outputs": []
    },
    {
      "cell_type": "code",
      "source": [
        "np.random.seed(43)\n",
        "\n",
        "sample = boat_data.sample(n=1000)\n",
        "\n",
        "sns.scatterplot(x='Euro Equivalent', y='Number of views last 7 days', data=sample, alpha=0.5)\n",
        "plt.show()"
      ],
      "metadata": {
        "colab": {
          "base_uri": "https://localhost:8080/",
          "height": 285
        },
        "id": "ly14ZyMPxsGZ",
        "outputId": "cdf3af94-7222-4740-b042-b881e88d6d33"
      },
      "execution_count": 28,
      "outputs": [
        {
          "output_type": "display_data",
          "data": {
            "text/plain": [
              "<Figure size 432x288 with 1 Axes>"
            ],
            "image/png": "[encoded data removed]"
          },
          "metadata": {}
        }
      ]
    },
    {
      "cell_type": "code",
      "source": [
        "correlation = boat_data['Euro Equivalent'].corr(boat_data['Number of views last 7 days'])\n",
        "print(correlation)"
      ],
      "metadata": {
        "colab": {
          "base_uri": "https://localhost:8080/"
        },
        "id": "wFAAdc72iLsV",
        "outputId": "d266f1fd-51ff-4923-d60a-b6a007cc9ff4"
      },
      "execution_count": 31,
      "outputs": [
        {
          "output_type": "stream",
          "name": "stdout",
          "text": [
            "-0.009830135983368788\n"
          ]
        }
      ]
    },
    {
      "cell_type": "code",
      "source": [
        "sample['sqrt Euro Equivalent'] = np.sqrt(sample['Euro Equivalent'])\n",
        "sample['sqrt Number of views'] = np.sqrt(sample['Number of views last 7 days'])"
      ],
      "metadata": {
        "id": "rm8BBkhW-o3R"
      },
      "execution_count": 38,
      "outputs": []
    },
    {
      "cell_type": "code",
      "source": [
        "sns.scatterplot(data= sample, x='sqrt Euro Equivalent', y='sqrt Number of views', alpha=0.5)\n",
        "plt.title('Correlation Between Number of Views and Boat Price')\n",
        "plt.show()"
      ],
      "metadata": {
        "colab": {
          "base_uri": "https://localhost:8080/",
          "height": 301
        },
        "id": "Q8ar-JU2yHpY",
        "outputId": "b0fc97ef-fd95-4c70-c67d-69ff292f5393"
      },
      "execution_count": 43,
      "outputs": [
        {
          "output_type": "display_data",
          "data": {
            "text/plain": [
              "<Figure size 432x288 with 1 Axes>"
            ],
            "image/png": "[encoded data removed]"
          },
          "metadata": {}
        }
      ]
    },
    {
      "cell_type": "code",
      "source": [
        "correlation_sqrt = sample['sqrt Euro Equivalent'].corr(sample['sqrt Number of views'])\n",
        "print(correlation_sqrt)"
      ],
      "metadata": {
        "colab": {
          "base_uri": "https://localhost:8080/"
        },
        "id": "6-SzhYSaGqif",
        "outputId": "1293c902-4b55-4971-fb18-2d06c11602f5"
      },
      "execution_count": 44,
      "outputs": [
        {
          "output_type": "stream",
          "name": "stdout",
          "text": [
            "-0.15600932223496428\n"
          ]
        }
      ]
    },
    {
      "cell_type": "markdown",
      "source": [
        "Let's say boats that are viewed, at least, 100 times on average daily are boats with high views.\n",
        "\n",
        "So, we subset to see boats with 700 views or more in the last 7 days."
      ],
      "metadata": {
        "id": "sO5jXhIFie6W"
      }
    },
    {
      "cell_type": "code",
      "source": [
        "most_viewed = boat_data[boat_data['Number of views last 7 days'] >= 700].sort_values('Number of views last 7 days', ascending=False)\n",
        "most_viewed.head()"
      ],
      "metadata": {
        "colab": {
          "base_uri": "https://localhost:8080/",
          "height": 444
        },
        "id": "vSOSR6dTizhF",
        "outputId": "2cf3205b-62e6-428b-e729-2ce3386706ce"
      },
      "execution_count": 79,
      "outputs": [
        {
          "output_type": "execute_result",
          "data": {
            "text/plain": [
              "  Currency  Amount  Euro Equivalent                        Boat Type  \\\n",
              "0      CHF   14900          14900.0                      Motor Yacht   \n",
              "1      CHF   35000          35000.0                          Hardtop   \n",
              "2      CHF  125900         125900.0  Bowrider,Motor Yacht,Sport Boat   \n",
              "3      EUR  949000        1100840.0                          Hardtop   \n",
              "4      CHF   19900          19900.0                       Sport Boat   \n",
              "\n",
              "           Manufacturer                Type   Conditon Fuel Type  Year Built  \\\n",
              "0  Bayliner power boats  Used boat,Unleaded  Used boat  Unleaded        1992   \n",
              "1  Princess power boats    Used boat,Diesel  Used boat    Diesel        1979   \n",
              "2     Windy power boats    Used boat,Diesel  Used boat    Diesel        2002   \n",
              "3  Pershing power boats    Used boat,Diesel  Used boat    Diesel        2009   \n",
              "4   Sea Ray power boats  Used boat,Unleaded  Used boat  Unleaded        1993   \n",
              "\n",
              "   Length  Width Material     Location  Number of views last 7 days  \\\n",
              "0    7.70   2.46  Plastic  Switzerland                         3263   \n",
              "1   11.12   3.88      GRP  Switzerland                         2432   \n",
              "2   12.35   3.48      GRP  Switzerland                         2261   \n",
              "3   20.30   5.20      GRP     Neustadt                         2154   \n",
              "4    6.14   2.34  Plastic  Switzerland                         2026   \n",
              "\n",
              "   sqrt Euro Equivalent  sqrt Number of views  \n",
              "0            122.065556             57.122675  \n",
              "1            187.082869             49.315312  \n",
              "2            354.823900             47.549974  \n",
              "3           1049.209226             46.411206  \n",
              "4            141.067360             45.011110  "
            ],
            "text/html": [
              "\n",
              "  <div id=\"df-0052e67b-5e59-4514-883c-d9f8d90f8663\">\n",
              "    <div class=\"colab-df-container\">\n",
              "      <div>\n",
              "<style scoped>\n",
              "    .dataframe tbody tr th:only-of-type {\n",
              "        vertical-align: middle;\n",
              "    }\n",
              "\n",
              "    .dataframe tbody tr th {\n",
              "        vertical-align: top;\n",
              "    }\n",
              "\n",
              "    .dataframe thead th {\n",
              "        text-align: right;\n",
              "    }\n",
              "</style>\n",
              "<table border=\"1\" class=\"dataframe\">\n",
              "  <thead>\n",
              "    <tr style=\"text-align: right;\">\n",
              "      <th></th>\n",
              "      <th>Currency</th>\n",
              "      <th>Amount</th>\n",
              "      <th>Euro Equivalent</th>\n",
              "      <th>Boat Type</th>\n",
              "      <th>Manufacturer</th>\n",
              "      <th>Type</th>\n",
              "      <th>Conditon</th>\n",
              "      <th>Fuel Type</th>\n",
              "      <th>Year Built</th>\n",
              "      <th>Length</th>\n",
              "      <th>Width</th>\n",
              "      <th>Material</th>\n",
              "      <th>Location</th>\n",
              "      <th>Number of views last 7 days</th>\n",
              "      <th>sqrt Euro Equivalent</th>\n",
              "      <th>sqrt Number of views</th>\n",
              "    </tr>\n",
              "  </thead>\n",
              "  <tbody>\n",
              "    <tr>\n",
              "      <th>0</th>\n",
              "      <td>CHF</td>\n",
              "      <td>14900</td>\n",
              "      <td>14900.0</td>\n",
              "      <td>Motor Yacht</td>\n",
              "      <td>Bayliner power boats</td>\n",
              "      <td>Used boat,Unleaded</td>\n",
              "      <td>Used boat</td>\n",
              "      <td>Unleaded</td>\n",
              "      <td>1992</td>\n",
              "      <td>7.70</td>\n",
              "      <td>2.46</td>\n",
              "      <td>Plastic</td>\n",
              "      <td>Switzerland</td>\n",
              "      <td>3263</td>\n",
              "      <td>122.065556</td>\n",
              "      <td>57.122675</td>\n",
              "    </tr>\n",
              "    <tr>\n",
              "      <th>1</th>\n",
              "      <td>CHF</td>\n",
              "      <td>35000</td>\n",
              "      <td>35000.0</td>\n",
              "      <td>Hardtop</td>\n",
              "      <td>Princess power boats</td>\n",
              "      <td>Used boat,Diesel</td>\n",
              "      <td>Used boat</td>\n",
              "      <td>Diesel</td>\n",
              "      <td>1979</td>\n",
              "      <td>11.12</td>\n",
              "      <td>3.88</td>\n",
              "      <td>GRP</td>\n",
              "      <td>Switzerland</td>\n",
              "      <td>2432</td>\n",
              "      <td>187.082869</td>\n",
              "      <td>49.315312</td>\n",
              "    </tr>\n",
              "    <tr>\n",
              "      <th>2</th>\n",
              "      <td>CHF</td>\n",
              "      <td>125900</td>\n",
              "      <td>125900.0</td>\n",
              "      <td>Bowrider,Motor Yacht,Sport Boat</td>\n",
              "      <td>Windy power boats</td>\n",
              "      <td>Used boat,Diesel</td>\n",
              "      <td>Used boat</td>\n",
              "      <td>Diesel</td>\n",
              "      <td>2002</td>\n",
              "      <td>12.35</td>\n",
              "      <td>3.48</td>\n",
              "      <td>GRP</td>\n",
              "      <td>Switzerland</td>\n",
              "      <td>2261</td>\n",
              "      <td>354.823900</td>\n",
              "      <td>47.549974</td>\n",
              "    </tr>\n",
              "    <tr>\n",
              "      <th>3</th>\n",
              "      <td>EUR</td>\n",
              "      <td>949000</td>\n",
              "      <td>1100840.0</td>\n",
              "      <td>Hardtop</td>\n",
              "      <td>Pershing power boats</td>\n",
              "      <td>Used boat,Diesel</td>\n",
              "      <td>Used boat</td>\n",
              "      <td>Diesel</td>\n",
              "      <td>2009</td>\n",
              "      <td>20.30</td>\n",
              "      <td>5.20</td>\n",
              "      <td>GRP</td>\n",
              "      <td>Neustadt</td>\n",
              "      <td>2154</td>\n",
              "      <td>1049.209226</td>\n",
              "      <td>46.411206</td>\n",
              "    </tr>\n",
              "    <tr>\n",
              "      <th>4</th>\n",
              "      <td>CHF</td>\n",
              "      <td>19900</td>\n",
              "      <td>19900.0</td>\n",
              "      <td>Sport Boat</td>\n",
              "      <td>Sea Ray power boats</td>\n",
              "      <td>Used boat,Unleaded</td>\n",
              "      <td>Used boat</td>\n",
              "      <td>Unleaded</td>\n",
              "      <td>1993</td>\n",
              "      <td>6.14</td>\n",
              "      <td>2.34</td>\n",
              "      <td>Plastic</td>\n",
              "      <td>Switzerland</td>\n",
              "      <td>2026</td>\n",
              "      <td>141.067360</td>\n",
              "      <td>45.011110</td>\n",
              "    </tr>\n",
              "  </tbody>\n",
              "</table>\n",
              "</div>\n",
              "      <button class=\"colab-df-convert\" onclick=\"convertToInteractive('df-0052e67b-5e59-4514-883c-d9f8d90f8663')\"\n",
              "              title=\"Convert this dataframe to an interactive table.\"\n",
              "              style=\"display:none;\">\n",
              "        \n",
              "  <svg xmlns=\"http://www.w3.org/2000/svg\" height=\"24px\"viewBox=\"0 0 24 24\"\n",
              "       width=\"24px\">\n",
              "    <path d=\"M0 0h24v24H0V0z\" fill=\"none\"/>\n",
              "    <path d=\"M18.56 5.44l.94 2.06.94-2.06 2.06-.94-2.06-.94-.94-2.06-.94 2.06-2.06.94zm-11 1L8.5 8.5l.94-2.06 2.06-.94-2.06-.94L8.5 2.5l-.94 2.06-2.06.94zm10 10l.94 2.06.94-2.06 2.06-.94-2.06-.94-.94-2.06-.94 2.06-2.06.94z\"/><path d=\"M17.41 7.96l-1.37-1.37c-.4-.4-.92-.59-1.43-.59-.52 0-1.04.2-1.43.59L10.3 9.45l-7.72 7.72c-.78.78-.78 2.05 0 2.83L4 21.41c.39.39.9.59 1.41.59.51 0 1.02-.2 1.41-.59l7.78-7.78 2.81-2.81c.8-.78.8-2.07 0-2.86zM5.41 20L4 18.59l7.72-7.72 1.47 1.35L5.41 20z\"/>\n",
              "  </svg>\n",
              "      </button>\n",
              "      \n",
              "  <style>\n",
              "    .colab-df-container {\n",
              "      display:flex;\n",
              "      flex-wrap:wrap;\n",
              "      gap: 12px;\n",
              "    }\n",
              "\n",
              "    .colab-df-convert {\n",
              "      background-color: #E8F0FE;\n",
              "      border: none;\n",
              "      border-radius: 50%;\n",
              "      cursor: pointer;\n",
              "      display: none;\n",
              "      fill: #1967D2;\n",
              "      height: 32px;\n",
              "      padding: 0 0 0 0;\n",
              "      width: 32px;\n",
              "    }\n",
              "\n",
              "    .colab-df-convert:hover {\n",
              "      background-color: #E2EBFA;\n",
              "      box-shadow: 0px 1px 2px rgba(60, 64, 67, 0.3), 0px 1px 3px 1px rgba(60, 64, 67, 0.15);\n",
              "      fill: #174EA6;\n",
              "    }\n",
              "\n",
              "    [theme=dark] .colab-df-convert {\n",
              "      background-color: #3B4455;\n",
              "      fill: #D2E3FC;\n",
              "    }\n",
              "\n",
              "    [theme=dark] .colab-df-convert:hover {\n",
              "      background-color: #434B5C;\n",
              "      box-shadow: 0px 1px 3px 1px rgba(0, 0, 0, 0.15);\n",
              "      filter: drop-shadow(0px 1px 2px rgba(0, 0, 0, 0.3));\n",
              "      fill: #FFFFFF;\n",
              "    }\n",
              "  </style>\n",
              "\n",
              "      <script>\n",
              "        const buttonEl =\n",
              "          document.querySelector('#df-0052e67b-5e59-4514-883c-d9f8d90f8663 button.colab-df-convert');\n",
              "        buttonEl.style.display =\n",
              "          google.colab.kernel.accessAllowed ? 'block' : 'none';\n",
              "\n",
              "        async function convertToInteractive(key) {\n",
              "          const element = document.querySelector('#df-0052e67b-5e59-4514-883c-d9f8d90f8663');\n",
              "          const dataTable =\n",
              "            await google.colab.kernel.invokeFunction('convertToInteractive',\n",
              "                                                     [key], {});\n",
              "          if (!dataTable) return;\n",
              "\n",
              "          const docLinkHtml = 'Like what you see? Visit the ' +\n",
              "            '<a target=\"_blank\" href=https://colab.research.google.com/notebooks/data_table.ipynb>data table notebook</a>'\n",
              "            + ' to learn more about interactive tables.';\n",
              "          element.innerHTML = '';\n",
              "          dataTable['output_type'] = 'display_data';\n",
              "          await google.colab.output.renderOutput(dataTable, element);\n",
              "          const docLink = document.createElement('div');\n",
              "          docLink.innerHTML = docLinkHtml;\n",
              "          element.appendChild(docLink);\n",
              "        }\n",
              "      </script>\n",
              "    </div>\n",
              "  </div>\n",
              "  "
            ]
          },
          "metadata": {},
          "execution_count": 79
        }
      ]
    },
    {
      "cell_type": "code",
      "source": [
        "sns.set_context('notebook')"
      ],
      "metadata": {
        "id": "qpq02IwE8KMn"
      },
      "execution_count": 83,
      "outputs": []
    },
    {
      "cell_type": "code",
      "source": [
        "sns.countplot(data=most_viewed, y='Conditon')\n",
        "plt.title('Most viewed Boats by Conditions')\n",
        "plt.xlabel('Number of Occurences')\n",
        "plt.ylabel('Conditions')\n",
        "plt.show()\n",
        "plt.savefig('Most viewed Boats by Conditions.png')"
      ],
      "metadata": {
        "colab": {
          "base_uri": "https://localhost:8080/",
          "height": 318
        },
        "id": "bG1ZFHN9FAB8",
        "outputId": "6ab5c958-600f-4b13-d97b-4578375d1805"
      },
      "execution_count": 85,
      "outputs": [
        {
          "output_type": "display_data",
          "data": {
            "text/plain": [
              "<Figure size 432x288 with 1 Axes>"
            ],
            "image/png": "[encoded data removed]"
          },
          "metadata": {}
        },
        {
          "output_type": "display_data",
          "data": {
            "text/plain": [
              "<Figure size 432x288 with 0 Axes>"
            ]
          },
          "metadata": {}
        }
      ]
    },
    {
      "cell_type": "code",
      "source": [
        "fuel_type = most_viewed['Fuel Type'].value_counts()\n",
        "fuel_type\n"
      ],
      "metadata": {
        "colab": {
          "base_uri": "https://localhost:8080/"
        },
        "id": "eWYtFaUSDQwC",
        "outputId": "1b155a68-e24f-4cc7-a28a-8067a8ed4575"
      },
      "execution_count": 69,
      "outputs": [
        {
          "output_type": "execute_result",
          "data": {
            "text/plain": [
              "Unleaded    72\n",
              "Diesel      41\n",
              "Name: Fuel Type, dtype: int64"
            ]
          },
          "metadata": {},
          "execution_count": 69
        }
      ]
    },
    {
      "cell_type": "code",
      "source": [
        "bar = ['Unleaded', 'Diesel']\n",
        "fuel_type.plot(kind='pie', labels = bar,autopct='%1.1f%%')\n",
        "plt.title('Fuel Type')\n",
        "plt.show()\n",
        "plt.savefig('Most viewed Boats by Fuel Type.png')"
      ],
      "metadata": {
        "colab": {
          "base_uri": "https://localhost:8080/",
          "height": 281
        },
        "id": "ZTvHXXnWD9t6",
        "outputId": "833e3e7e-75aa-4abb-9aba-bd6b9627a306"
      },
      "execution_count": 86,
      "outputs": [
        {
          "output_type": "display_data",
          "data": {
            "text/plain": [
              "<Figure size 432x288 with 1 Axes>"
            ],
            "image/png": "[encoded data removed]"
          },
          "metadata": {}
        },
        {
          "output_type": "display_data",
          "data": {
            "text/plain": [
              "<Figure size 432x288 with 0 Axes>"
            ]
          },
          "metadata": {}
        }
      ]
    },
    {
      "cell_type": "code",
      "source": [
        "sns.countplot(data=most_viewed, y='Conditon', hue='Fuel Type')\n",
        "plt.title('Most viewed Boats by Condition')\n",
        "plt.xlabel('Number of Occurences')\n",
        "plt.ylabel('Condition')\n",
        "plt.legend(loc='right')\n",
        "plt.show()\n",
        "plt.savefig('Most viewed Boats by Condition and Fuel Type.png')"
      ],
      "metadata": {
        "colab": {
          "base_uri": "https://localhost:8080/",
          "height": 318
        },
        "id": "hi-kSjY-4rEI",
        "outputId": "b095af03-437a-4731-c7e7-16019309f940"
      },
      "execution_count": 90,
      "outputs": [
        {
          "output_type": "display_data",
          "data": {
            "text/plain": [
              "<Figure size 432x288 with 1 Axes>"
            ],
            "image/png": "[encoded data removed]"
          },
          "metadata": {}
        },
        {
          "output_type": "display_data",
          "data": {
            "text/plain": [
              "<Figure size 432x288 with 0 Axes>"
            ]
          },
          "metadata": {}
        }
      ]
    },
    {
      "cell_type": "code",
      "source": [
        "sns.countplot(data=most_viewed, y='Material')\n",
        "plt.title('Most viewed Boats by Material')\n",
        "plt.xlabel('Number of Occurences')\n",
        "plt.ylabel('Material')\n",
        "plt.show()\n",
        "plt.savefig('Most viewed Boats by Material.png')"
      ],
      "metadata": {
        "colab": {
          "base_uri": "https://localhost:8080/",
          "height": 318
        },
        "id": "4gdlD4fD6fzH",
        "outputId": "210e6b24-63cb-415b-b494-d36a3df48530"
      },
      "execution_count": 93,
      "outputs": [
        {
          "output_type": "display_data",
          "data": {
            "text/plain": [
              "<Figure size 432x288 with 1 Axes>"
            ],
            "image/png": "[encoded data removed]"
          },
          "metadata": {}
        },
        {
          "output_type": "display_data",
          "data": {
            "text/plain": [
              "<Figure size 432x288 with 0 Axes>"
            ]
          },
          "metadata": {}
        }
      ]
    },
    {
      "cell_type": "code",
      "source": [
        "most_viewed_locations = most_viewed.Location.value_counts().to_frame()\n",
        "most_viewed_locations.reset_index(inplace=True)\n",
        "most_viewed_locations.columns = ['Location', 'Number of Occurences']\n",
        "most_viewed_locations = most_viewed_locations[most_viewed_locations['Number of Occurences'] > 1].sort_values('Number of Occurences', ascending=True)\n",
        "plt.bar(x=most_viewed_locations['Location'], height=most_viewed_locations['Number of Occurences'], color='red')\n",
        "plt.title('Most viewed Boats by Location')\n",
        "plt.ylabel('Number of Occurences')\n",
        "plt.xticks(rotation=70)\n",
        "plt.xlabel('Location')\n",
        "plt.show()\n",
        "plt.savefig('Most viewed Boats by Location.png')"
      ],
      "metadata": {
        "colab": {
          "base_uri": "https://localhost:8080/",
          "height": 398
        },
        "id": "Oy3GmW7LKCyi",
        "outputId": "1139be89-0e88-4bce-c782-80fe0c8cb50d"
      },
      "execution_count": 147,
      "outputs": [
        {
          "output_type": "display_data",
          "data": {
            "text/plain": [
              "<Figure size 432x288 with 1 Axes>"
            ],
            "image/png": "[encoded data removed]"
          },
          "metadata": {}
        },
        {
          "output_type": "display_data",
          "data": {
            "text/plain": [
              "<Figure size 432x288 with 0 Axes>"
            ]
          },
          "metadata": {}
        }
      ]
    }
  ]
}